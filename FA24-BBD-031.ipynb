{
 "cells": [
  {
   "cell_type": "code",
   "execution_count": null,
   "id": "6ba8ce10-1976-411e-881d-f2c0780678b7",
   "metadata": {},
   "outputs": [],
   "source": [
    "#                                                   While Loop"
   ]
  },
  {
   "cell_type": "code",
   "execution_count": null,
   "id": "a42c5076-aa7b-4145-8350-d23e182b7d6c",
   "metadata": {},
   "outputs": [],
   "source": [
    "# Question 1\n",
    "i = 1\n",
    "while i <= 10:\n",
    "    print(i)\n",
    "    i += 1\n"
   ]
  },
  {
   "cell_type": "code",
   "execution_count": null,
   "id": "d8f2d2ae-fd1e-401a-9f75-e68c6dfce961",
   "metadata": {},
   "outputs": [],
   "source": [
    "# Question 2\n",
    "i = 1\n",
    "while i <= 20:\n",
    "    if i % 2 == 0:\n",
    "        print(i)\n",
    "    i += 1\n"
   ]
  },
  {
   "cell_type": "code",
   "execution_count": null,
   "id": "973db6ca-db33-401f-8a1f-fa8429d70045",
   "metadata": {},
   "outputs": [],
   "source": [
    "# Question 3\n",
    "i = 1\n",
    "total = 0\n",
    "while i <= 10:\n",
    "    total += i\n",
    "    i += 1\n",
    "print(\"Sum of the first 10 natural numbers:\", total)\n"
   ]
  },
  {
   "cell_type": "code",
   "execution_count": null,
   "id": "a04ed123-90f3-4d81-9759-15475dbabfd0",
   "metadata": {},
   "outputs": [],
   "source": [
    "# Question 4\n",
    "total = 0\n",
    "while True:\n",
    "    number = int(input(\"Enter a number (negative to stop): \"))\n",
    "    if number < 0:\n",
    "        break\n",
    "    total += number\n",
    "print(\"Total sum:\", total)"
   ]
  },
  {
   "cell_type": "code",
   "execution_count": null,
   "id": "7cebefcd-d0f8-4ede-a7a2-a809ca36b7c8",
   "metadata": {},
   "outputs": [],
   "source": [
    "# Question 5\n",
    "import random\n",
    "target = random.randint(1, 100)\n",
    "guess = None\n",
    "\n",
    "while guess != target:\n",
    "    guess = int(input(\"Guess a number between 1 and 100: \"))\n",
    "    if guess < target:\n",
    "        print(\"Too low!\")\n",
    "    elif guess > target:\n",
    "        print(\"Too high!\")\n",
    "    else:\n",
    "        print(\"Correct! The number was\", target)"
   ]
  },
  {
   "cell_type": "code",
   "execution_count": null,
   "id": "679d2dd0-556f-4776-920b-514e57dc3f08",
   "metadata": {},
   "outputs": [],
   "source": [
    "# Question 6\n",
    "number = int(input(\"Enter a positive integer: \"))\n",
    "factorial = 1\n",
    "i = 1\n",
    "\n",
    "while i <= number:\n",
    "    factorial *= i\n",
    "    i += 1\n",
    "\n",
    "print(f\"Factorial of {number} is {factorial}\")"
   ]
  },
  {
   "cell_type": "code",
   "execution_count": null,
   "id": "ee8ba414-63bf-4426-bf5a-ea8fed68c5b0",
   "metadata": {},
   "outputs": [],
   "source": [
    "# Question 7\n",
    "total = 0\n",
    "count = 0\n",
    "\n",
    "while True:\n",
    "    number = input(\"Enter a number (or 'done' to stop): \")\n",
    "    if number.lower() == 'done':\n",
    "        break\n",
    "    total += float(number)\n",
    "    count += 1\n",
    "\n",
    "if count == 0:\n",
    "    print(\"No numbers were entered.\")\n",
    "else:\n",
    "    print(\"Average:\", total / count)\n"
   ]
  },
  {
   "cell_type": "code",
   "execution_count": null,
   "id": "1af7d7a3-798b-4cd5-a3b9-f25c4437a5fd",
   "metadata": {},
   "outputs": [],
   "source": [
    "# Question 8\n",
    "n = int(input(\"Enter the maximum number for the Fibonacci sequence: \"))\n",
    "a, b = 0, 1\n",
    "\n",
    "while a <= n:\n",
    "    print(a, end=\" \")\n",
    "    a, b = b, a + b"
   ]
  },
  {
   "cell_type": "code",
   "execution_count": null,
   "id": "5ddd7b4a-a541-4eba-a085-7268ad19443e",
   "metadata": {},
   "outputs": [],
   "source": [
    "#                                       For Loop       "
   ]
  },
  {
   "cell_type": "code",
   "execution_count": null,
   "id": "70e014d2-815d-4e81-93b0-0b83c58b17ae",
   "metadata": {},
   "outputs": [],
   "source": [
    "# Question 1(Part 1)\n",
    "favorite_movies = [\"Inception\", \"The Shawshank Redemption\", \"Interstellar\", \"The Dark Knight\", \"Parasite\"]\n",
    "\n",
    "# Iterating and printing each movie title\n",
    "for movie in favorite_movies:\n",
    "    print(movie)"
   ]
  },
  {
   "cell_type": "code",
   "execution_count": null,
   "id": "a9cba260-5ef9-4cff-bfb9-ad72e0c28b0c",
   "metadata": {},
   "outputs": [],
   "source": [
    "# Question 1(Part 2)\n",
    "for index, movie in enumerate(favorite_movies):\n",
    "    print(f\"{index}: {movie}\")"
   ]
  },
  {
   "cell_type": "code",
   "execution_count": null,
   "id": "81ac5732-8c2d-4ecc-86c3-8bd6ffee5c78",
   "metadata": {},
   "outputs": [],
   "source": [
    "# Question 2(Part 1)\n",
    "full_name = \"John Doe\"\n",
    "\n",
    "# Iterating over the string and printing each character\n",
    "for char in full_name:\n",
    "    print(char)\n"
   ]
  },
  {
   "cell_type": "code",
   "execution_count": null,
   "id": "efcb4645-64fa-45f8-953c-fb103a8b5c20",
   "metadata": {},
   "outputs": [],
   "source": [
    "# Question 2(Part 2)\n",
    "vowels = \"aeiouAEIOU\"\n",
    "\n",
    "# Initialize a counter for vowels\n",
    "vowel_count = 0\n",
    "\n",
    "# Iterating over the string to count vowels\n",
    "for char in full_name:\n",
    "    if char in vowels:\n",
    "        vowel_count += 1\n",
    "\n",
    "print(\"Number of vowels:\", vowel_count)"
   ]
  },
  {
   "cell_type": "code",
   "execution_count": null,
   "id": "31f758f1-cdb7-4310-b29b-0004f71688ab",
   "metadata": {},
   "outputs": [],
   "source": [
    "# Question 3(Part 1)\n",
    "students_grades = {\n",
    "    \"Alice\": 85,\n",
    "    \"Bob\": 92,\n",
    "    \"Charlie\": 78,\n",
    "    \"Diana\": 95,\n",
    "    \"Eve\": 88\n",
    "}\n",
    "\n",
    "# Iterating and printing each student's name and grade\n",
    "for name, grade in students_grades.items():\n",
    "    print(f\"Student: {name}, Grade: {grade}\")\n"
   ]
  },
  {
   "cell_type": "code",
   "execution_count": null,
   "id": "47036b5f-610b-4aaa-9662-32a9863dec6a",
   "metadata": {},
   "outputs": [],
   "source": [
    "# Question 3(Part 2)\n",
    "highest_grade_student = max(students_grades, key=students_grades.get)\n",
    "highest_grade = students_grades[highest_grade_student]\n",
    "\n",
    "print(f\"The student with the highest grade is {highest_grade_student} with a grade of {highest_grade}.\")"
   ]
  },
  {
   "cell_type": "code",
   "execution_count": null,
   "id": "3a511df5-a8dc-46e6-a55d-5cd38597d3fe",
   "metadata": {},
   "outputs": [],
   "source": [
    "# Question 4(Part 1)\n",
    "matrix = [\n",
    "    [1, 2, 3],\n",
    "    [4, 5, 6],\n",
    "    [7, 8, 9]\n",
    "]\n",
    "\n",
    "# Iterating over the matrix and printing each element\n",
    "print(\"Matrix elements:\")\n",
    "for row in matrix:\n",
    "    for element in row:\n",
    "        print(element, end=\" \")\n",
    "    print()  "
   ]
  },
  {
   "cell_type": "code",
   "execution_count": null,
   "id": "d0d0fd50-32c8-4f52-82ca-07b7f05fc257",
   "metadata": {},
   "outputs": [],
   "source": [
    "# Question 4(Part 2)\n",
    "total_sum = 0\n",
    "for row in matrix:\n",
    "    for element in row:\n",
    "        total_sum += element\n",
    "\n",
    "print(\"Sum of all elements in the matrix:\", total_sum)\n"
   ]
  },
  {
   "cell_type": "code",
   "execution_count": null,
   "id": "0f5461df-0141-415f-840d-9449a5c141d4",
   "metadata": {},
   "outputs": [],
   "source": [
    "# Question 5(Part 1)\n",
    "squares = []\n",
    "for i in range(1, 11):\n",
    "    squares.append(i ** 2)\n",
    "\n",
    "print(\"List of squares using a for loop:\", squares)\n"
   ]
  },
  {
   "cell_type": "code",
   "execution_count": null,
   "id": "74998eeb-3d74-48ba-ab4a-0ff7ed26bf77",
   "metadata": {},
   "outputs": [],
   "source": [
    "# Question 5(Part 2)\n",
    "squares = [i ** 2 for i in range(1, 11)]\n",
    "\n",
    "print(\"List of squares using list comprehension:\", squares)"
   ]
  }
 ],
 "metadata": {
  "kernelspec": {
   "display_name": "Python 3 (ipykernel)",
   "language": "python",
   "name": "python3"
  },
  "language_info": {
   "codemirror_mode": {
    "name": "ipython",
    "version": 3
   },
   "file_extension": ".py",
   "mimetype": "text/x-python",
   "name": "python",
   "nbconvert_exporter": "python",
   "pygments_lexer": "ipython3",
   "version": "3.12.7"
  }
 },
 "nbformat": 4,
 "nbformat_minor": 5
}
